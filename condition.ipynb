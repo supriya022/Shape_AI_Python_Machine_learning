{
 "cells": [
  {
   "cell_type": "code",
   "execution_count": 2,
   "metadata": {},
   "outputs": [
    {
     "name": "stdout",
     "output_type": "stream",
     "text": [
      "sad life\n"
     ]
    }
   ],
   "source": [
    "x = input(\"Enter kariye ek number: \")\n",
    "if x.isnumeric():\n",
    "    print(\"Good job\")\n",
    "else:\n",
    "    print('sad life')"
   ]
  },
  {
   "cell_type": "code",
   "execution_count": 13,
   "metadata": {},
   "outputs": [
    {
     "name": "stdout",
     "output_type": "stream",
     "text": [
      "sorry, You have no right to vote\n",
      "please wait 6 years\n"
     ]
    }
   ],
   "source": [
    "age = int(input(\"Enter age: \"))\n",
    "if age >= 18:\n",
    "    print(\"You are eligible to vote\")\n",
    "else:\n",
    "    print(\"sorry, You have no right to vote\")\n",
    "    print(f\"please wait {18-age} years\")\n",
    "   "
   ]
  },
  {
   "cell_type": "code",
   "execution_count": 11,
   "metadata": {},
   "outputs": [
    {
     "name": "stdout",
     "output_type": "stream",
     "text": [
      "we have 39kg mango in store\n",
      " total costing about Rs.780\n"
     ]
    }
   ],
   "source": [
    "x = 39\n",
    "y = 'mango'\n",
    "prc = 20\n",
    "print(f'we have {x}kg {y} in store')\n",
    "print(f' total costing about Rs.{x * prc}')"
   ]
  },
  {
   "cell_type": "code",
   "execution_count": 16,
   "metadata": {},
   "outputs": [
    {
     "name": "stdout",
     "output_type": "stream",
     "text": [
      "x = 60 is natural number\n",
      "x=60 is even number\n",
      "x=60 is greater than 50\n"
     ]
    }
   ],
   "source": [
    "x = int(input('Enter a number: '))\n",
    "if x > 0:\n",
    "    print(f\"{x = } is natural number\")\n",
    "\n",
    "if x%2==0:\n",
    "    print(f'{x=} is even number')\n",
    "if x>50:\n",
    "    print(f'{x=} is greater than 50')"
   ]
  },
  {
   "cell_type": "code",
   "execution_count": 18,
   "metadata": {},
   "outputs": [
    {
     "name": "stdout",
     "output_type": "stream",
     "text": [
      "65000.0\n",
      "56000.0\n",
      "45000.0\n"
     ]
    }
   ],
   "source": [
    "bs = 50000\n",
    "bns = bs * .1 #10%\n",
    "hra = bs * .2 # 20 %%\n",
    "print(bs + bns + hra)\n",
    "bs_d = 40000\n",
    "bns_d = bs_d * .2 # 20 %%\n",
    "hra_d = bs_d * .2\n",
    "print(bs_d + bns_d + hra_d)\n",
    "bs_t = 30000\n",
    "bns_t = bs_t * .3 # 30 %%\n",
    "hra_t = bs_t * .2\n",
    "print(bs_t + bns_t + hra_t)"
   ]
  },
  {
   "cell_type": "code",
   "execution_count": 22,
   "metadata": {},
   "outputs": [
    {
     "name": "stdout",
     "output_type": "stream",
     "text": [
      " total salary is 45000.0\n"
     ]
    }
   ],
   "source": [
    "post = input(\"Enter your sesignation: \")\n",
    "if post == \"manager\":\n",
    "    bs = 50000\n",
    "    bns = bs * .1 #10%\n",
    "    hra = bs * .2 # 20 %%\n",
    "    print(f' total salary is {bs + bns + hra}')\n",
    "if post == \"developer\":\n",
    "    bs_d = 40000\n",
    "    bns_d = bs_d * .2 # 20 %%\n",
    "    hra_d = bs_d * .2\n",
    "    print(f' total salary is {bs_d + bns_d + hra_d}')\n",
    "if post == \"tester\":\n",
    "    bs_t = 30000\n",
    "    bns_t = bs_t * .3 # 30 %%\n",
    "    hra_t = bs_t * .2\n",
    "print(f' total salary is {bs_t + bns_t + hra_t}')\n",
    "    \n"
   ]
  },
  {
   "cell_type": "code",
   "execution_count": 3,
   "metadata": {},
   "outputs": [
    {
     "ename": "SyntaxError",
     "evalue": "invalid syntax (3266804504.py, line 9)",
     "output_type": "error",
     "traceback": [
      "\u001b[1;36m  Cell \u001b[1;32mIn[3], line 9\u001b[1;36m\u001b[0m\n\u001b[1;33m    case_:\u001b[0m\n\u001b[1;37m    ^\u001b[0m\n\u001b[1;31mSyntaxError\u001b[0m\u001b[1;31m:\u001b[0m invalid syntax\n"
     ]
    }
   ],
   "source": [
    "fruit = input(\"Enter a fruit name: \")\n",
    "match fruit:\n",
    "    case 'apple':\n",
    "       print(\"Apple are 100/kg\")\n",
    "    case 'mango':\n",
    "       print(\"Mangoes are 50/kg\")\n",
    "    case 'pomegranate':\n",
    "       print(\"End\")\n",
    "    case_:                             #default case\n",
    "        print(f'{fruit} not available')\n",
    "\n"
   ]
  },
  {
   "cell_type": "code",
   "execution_count": 4,
   "metadata": {},
   "outputs": [
    {
     "name": "stdout",
     "output_type": "stream",
     "text": [
      "c is greater\n"
     ]
    }
   ],
   "source": [
    "# WAP to compare which number is greater between 3 numbers.\n",
    "a = 230\n",
    "b = 41\n",
    "c = 931\n",
    "# related conditions use if-elif-else ladder,\n",
    "if a>b and a>c:\n",
    "    print(\"a is greater\")\n",
    "elif  b>a and b>c:\n",
    "    print(\"b is greater\")\n",
    "else:\n",
    "    print(\"c is greater\")"
   ]
  },
  {
   "cell_type": "code",
   "execution_count": null,
   "metadata": {},
   "outputs": [],
   "source": []
  }
 ],
 "metadata": {
  "kernelspec": {
   "display_name": "Python 3",
   "language": "python",
   "name": "python3"
  },
  "language_info": {
   "codemirror_mode": {
    "name": "ipython",
    "version": 3
   },
   "file_extension": ".py",
   "mimetype": "text/x-python",
   "name": "python",
   "nbconvert_exporter": "python",
   "pygments_lexer": "ipython3",
   "version": "3.11.1"
  },
  "orig_nbformat": 4,
  "vscode": {
   "interpreter": {
    "hash": "1dff2ae9bb3d76afe605b4da110c360d30bebf06bffc0acd093f995de237438b"
   }
  }
 },
 "nbformat": 4,
 "nbformat_minor": 2
}
