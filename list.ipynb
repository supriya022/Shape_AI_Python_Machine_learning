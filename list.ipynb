{
 "cells": [
  {
   "cell_type": "code",
   "execution_count": 101,
   "metadata": {},
   "outputs": [],
   "source": [
    "x = [] # blank list\n",
    "x2 = [1,2,3] # list with 3 elements \n",
    "x3 = [12,45,'Apple','orange'] # list with 4 elements\n",
    "x4 = ['Aman','vijay','ritik']"
   ]
  },
  {
   "attachments": {},
   "cell_type": "markdown",
   "metadata": {},
   "source": [
    "list is mutable,heterogenous,ordered,indexed."
   ]
  },
  {
   "cell_type": "code",
   "execution_count": 102,
   "metadata": {},
   "outputs": [
    {
     "name": "stdout",
     "output_type": "stream",
     "text": [
      "[]\n",
      "[1, 2, 3]\n",
      "[12, 45, 'Apple', 'orange']\n",
      "['Aman', 'vijay', 'ritik']\n"
     ]
    }
   ],
   "source": [
    "print(x)\n",
    "print(x2)\n",
    "print(x3)\n",
    "print(x4)\n",
    "\n"
   ]
  },
  {
   "cell_type": "code",
   "execution_count": 103,
   "metadata": {},
   "outputs": [
    {
     "data": {
      "text/plain": [
       "[1, 1, 1, 1, 1]"
      ]
     },
     "execution_count": 103,
     "metadata": {},
     "output_type": "execute_result"
    }
   ],
   "source": [
    "y = [1]\n",
    "y * 5  #(duplicated llist)"
   ]
  },
  {
   "cell_type": "code",
   "execution_count": 104,
   "metadata": {},
   "outputs": [
    {
     "name": "stdout",
     "output_type": "stream",
     "text": [
      "[1, 2, 3, 1, 2, 3, 1, 2, 3, 1, 2, 3, 1, 2, 3]\n"
     ]
    }
   ],
   "source": [
    "x5 = x2 * 5\n",
    "print(x5)"
   ]
  },
  {
   "cell_type": "code",
   "execution_count": 105,
   "metadata": {},
   "outputs": [
    {
     "name": "stdout",
     "output_type": "stream",
     "text": [
      "['Aman', 'vijay', 'ritik', 1, 2, 3, 1, 2, 3, 1, 2, 3, 1, 2, 3, 1, 2, 3]\n"
     ]
    }
   ],
   "source": [
    "x6 = x4 + x5 # concatenation\n",
    "print(x6)"
   ]
  },
  {
   "cell_type": "code",
   "execution_count": 106,
   "metadata": {},
   "outputs": [],
   "source": [
    "bad_movies = ['tees markhan','himmatwala','karz','hamshakal','desh drohi']\n",
    "good_movies = ['bahubali','sholay','pathan','bajrangi bhaijan','phirherapheri']\n",
    "\n"
   ]
  },
  {
   "cell_type": "code",
   "execution_count": 107,
   "metadata": {},
   "outputs": [
    {
     "name": "stdout",
     "output_type": "stream",
     "text": [
      "['bahubali', 'sholay', 'pathan', 'bajrangi bhaijan', 'phirherapheri', 'tees markhan', 'himmatwala', 'karz', 'hamshakal', 'desh drohi']\n"
     ]
    }
   ],
   "source": [
    "all_movies = good_movies + bad_movies\n",
    "print(all_movies)"
   ]
  },
  {
   "cell_type": "code",
   "execution_count": 108,
   "metadata": {},
   "outputs": [],
   "source": [
    "all_movies.append('troll 2')\n",
    "all_movies.append('black widow')"
   ]
  },
  {
   "cell_type": "code",
   "execution_count": 70,
   "metadata": {},
   "outputs": [
    {
     "name": "stdout",
     "output_type": "stream",
     "text": [
      "['bahubali', 'sholay', 'pathan', 'bajrangi bhaijan', 'phirherapheri', 'tees markhan', 'himmatwala', 'karz', 'hamshakal', 'desh drohi', 'troll 2', 'black widow']\n"
     ]
    }
   ],
   "source": [
    "print(all_movies)"
   ]
  },
  {
   "cell_type": "code",
   "execution_count": 109,
   "metadata": {},
   "outputs": [],
   "source": [
    "all_movies.insert(2,'The dark night')"
   ]
  },
  {
   "cell_type": "code",
   "execution_count": 110,
   "metadata": {},
   "outputs": [
    {
     "name": "stdout",
     "output_type": "stream",
     "text": [
      "['bahubali', 'sholay', 'The dark night', 'pathan', 'bajrangi bhaijan', 'phirherapheri', 'tees markhan', 'himmatwala', 'karz', 'hamshakal', 'desh drohi', 'troll 2', 'black widow']\n"
     ]
    }
   ],
   "source": [
    "print(all_movies)"
   ]
  },
  {
   "cell_type": "code",
   "execution_count": 111,
   "metadata": {},
   "outputs": [],
   "source": [
    "sequals = ['Fast & fast furious','2 fast 2 furious','fast and furious:tokyo drift']\n",
    "all_movies.extend(sequals)"
   ]
  },
  {
   "cell_type": "code",
   "execution_count": 112,
   "metadata": {},
   "outputs": [
    {
     "name": "stdout",
     "output_type": "stream",
     "text": [
      "['bahubali', 'sholay', 'The dark night', 'pathan', 'bajrangi bhaijan', 'phirherapheri', 'tees markhan', 'himmatwala', 'karz', 'hamshakal', 'desh drohi', 'troll 2', 'black widow', 'Fast & fast furious', '2 fast 2 furious', 'fast and furious:tokyo drift']\n"
     ]
    }
   ],
   "source": [
    "print(all_movies)"
   ]
  },
  {
   "cell_type": "code",
   "execution_count": 113,
   "metadata": {},
   "outputs": [
    {
     "data": {
      "text/plain": [
       "16"
      ]
     },
     "execution_count": 113,
     "metadata": {},
     "output_type": "execute_result"
    }
   ],
   "source": [
    "len(all_movies)"
   ]
  },
  {
   "cell_type": "code",
   "execution_count": 114,
   "metadata": {},
   "outputs": [
    {
     "data": {
      "text/plain": [
       "['bahubali', 'sholay', 'The dark night', 'pathan', 'bajrangi bhaijan']"
      ]
     },
     "execution_count": 114,
     "metadata": {},
     "output_type": "execute_result"
    }
   ],
   "source": [
    "all_movies[:5] # first 5 eliment"
   ]
  },
  {
   "cell_type": "code",
   "execution_count": 115,
   "metadata": {},
   "outputs": [
    {
     "data": {
      "text/plain": [
       "['troll 2',\n",
       " 'black widow',\n",
       " 'Fast & fast furious',\n",
       " '2 fast 2 furious',\n",
       " 'fast and furious:tokyo drift']"
      ]
     },
     "execution_count": 115,
     "metadata": {},
     "output_type": "execute_result"
    }
   ],
   "source": [
    "all_movies[-5:]"
   ]
  },
  {
   "cell_type": "code",
   "execution_count": 116,
   "metadata": {},
   "outputs": [
    {
     "name": "stdout",
     "output_type": "stream",
     "text": [
      "['Bahubali 2 : the conclusion', 'sholay', 'The dark night', 'pathan', 'bajrangi bhaijan', 'phirherapheri', 'tees markhan', 'himmatwala', 'karz', 'hamshakal', 'desh drohi', 'troll 2', 'black widow', 'Fast & fast furious', '2 fast 2 furious', 'fast and furious:tokyo drift']\n"
     ]
    }
   ],
   "source": [
    "all_movies[0]='Bahubali 2 : the conclusion'\n",
    "print(all_movies)"
   ]
  },
  {
   "cell_type": "code",
   "execution_count": 117,
   "metadata": {},
   "outputs": [
    {
     "name": "stdout",
     "output_type": "stream",
     "text": [
      "['Bahubali 2 : the conclusion', 'sholay', 'The dark night', 'pathan', 'bajrangi bhaijan', 'phirherapheri', 'tees markhan', 'himmatwala', 'karz', 'hamshakal', 'desh drohi', 'troll 2', 'black widow', 'Fast & fast furious', '2 fast 2 furious', 'fast and furious:tokyo drift']\n"
     ]
    }
   ],
   "source": [
    "all_movies[::-1]\n",
    "print(all_movies)"
   ]
  },
  {
   "cell_type": "code",
   "execution_count": 118,
   "metadata": {},
   "outputs": [
    {
     "name": "stdout",
     "output_type": "stream",
     "text": [
      "['troll 2', 'tees markhan', 'sholay', 'phirherapheri', 'pathan', 'karz', 'himmatwala', 'hamshakal', 'fast and furious:tokyo drift', 'desh drohi', 'black widow', 'bajrangi bhaijan', 'The dark night', 'Fast & fast furious', 'Bahubali 2 : the conclusion', '2 fast 2 furious']\n"
     ]
    }
   ],
   "source": [
    "all_movies.sort(reverse=True)\n",
    "print(all_movies)"
   ]
  },
  {
   "cell_type": "code",
   "execution_count": 119,
   "metadata": {},
   "outputs": [],
   "source": [
    "import random as rnd\n"
   ]
  },
  {
   "cell_type": "code",
   "execution_count": 120,
   "metadata": {},
   "outputs": [
    {
     "name": "stdout",
     "output_type": "stream",
     "text": [
      "['Fast & fast furious', 'pathan', 'himmatwala', 'hamshakal', 'fast and furious:tokyo drift', 'sholay', 'The dark night', 'Bahubali 2 : the conclusion', 'black widow', 'karz', 'phirherapheri', 'desh drohi', '2 fast 2 furious', 'troll 2', 'bajrangi bhaijan', 'tees markhan']\n"
     ]
    }
   ],
   "source": [
    "rnd.shuffle(all_movies)\n",
    "print(all_movies)"
   ]
  },
  {
   "cell_type": "code",
   "execution_count": 121,
   "metadata": {},
   "outputs": [
    {
     "data": {
      "text/plain": [
       "'2 fast 2 furious'"
      ]
     },
     "execution_count": 121,
     "metadata": {},
     "output_type": "execute_result"
    }
   ],
   "source": [
    "rnd.choice(all_movies)"
   ]
  },
  {
   "cell_type": "code",
   "execution_count": 122,
   "metadata": {},
   "outputs": [
    {
     "data": {
      "text/plain": [
       "['hamshakal', 'himmatwala', 'hamshakal']"
      ]
     },
     "execution_count": 122,
     "metadata": {},
     "output_type": "execute_result"
    }
   ],
   "source": [
    "rnd.choices(all_movies, k=3)"
   ]
  },
  {
   "cell_type": "code",
   "execution_count": 123,
   "metadata": {},
   "outputs": [
    {
     "name": "stdout",
     "output_type": "stream",
     "text": [
      "[]\n"
     ]
    }
   ],
   "source": [
    "all_movies.clear()\n",
    "print(all_movies)"
   ]
  },
  {
   "cell_type": "code",
   "execution_count": 128,
   "metadata": {},
   "outputs": [
    {
     "ename": "ValueError",
     "evalue": "'hamshakal' is not in list",
     "output_type": "error",
     "traceback": [
      "\u001b[1;31m---------------------------------------------------------------------------\u001b[0m",
      "\u001b[1;31mValueError\u001b[0m                                Traceback (most recent call last)",
      "Cell \u001b[1;32mIn[128], line 1\u001b[0m\n\u001b[1;32m----> 1\u001b[0m all_movies\u001b[39m.\u001b[39;49mindex(\u001b[39m'\u001b[39;49m\u001b[39mhamshakal\u001b[39;49m\u001b[39m'\u001b[39;49m)\n",
      "\u001b[1;31mValueError\u001b[0m: 'hamshakal' is not in list"
     ]
    }
   ],
   "source": [
    "all_movies.index('hamshakal')"
   ]
  },
  {
   "cell_type": "code",
   "execution_count": 129,
   "metadata": {},
   "outputs": [
    {
     "ename": "IndexError",
     "evalue": "pop from empty list",
     "output_type": "error",
     "traceback": [
      "\u001b[1;31m---------------------------------------------------------------------------\u001b[0m",
      "\u001b[1;31mIndexError\u001b[0m                                Traceback (most recent call last)",
      "Cell \u001b[1;32mIn[129], line 1\u001b[0m\n\u001b[1;32m----> 1\u001b[0m all_movies\u001b[39m.\u001b[39;49mpop(\u001b[39m3\u001b[39;49m) \u001b[39m# remove last element|\u001b[39;00m\n\u001b[0;32m      2\u001b[0m \u001b[39mprint\u001b[39m(all_movies)\n",
      "\u001b[1;31mIndexError\u001b[0m: pop from empty list"
     ]
    }
   ],
   "source": [
    "all_movies.pop(3) # remove last element|\n",
    "print(all_movies)"
   ]
  },
  {
   "cell_type": "code",
   "execution_count": 55,
   "metadata": {},
   "outputs": [
    {
     "name": "stdout",
     "output_type": "stream",
     "text": [
      "[100, 2, 200, 4, 5]\n",
      "[100, 2, 200, 4, 5]\n",
      "True\n"
     ]
    }
   ],
   "source": [
    "x = [1,2,3,4,5]\n",
    "y = x # data structure is not copied,only reference is copied\n",
    "y[0] = 100\n",
    "x[2] = 200\n",
    "print(x)\n",
    "print(y)\n",
    "print(x is y)"
   ]
  },
  {
   "cell_type": "code",
   "execution_count": 56,
   "metadata": {},
   "outputs": [
    {
     "name": "stdout",
     "output_type": "stream",
     "text": [
      "[100, 2, 200, 4]\n",
      "[100, 2, 200, 4]\n",
      "[100, 2, 200, 4, 5, 10]\n",
      "False\n"
     ]
    }
   ],
   "source": [
    "z = x.copy()\n",
    "z.append(10)\n",
    "x.remove(5)\n",
    "print(x)\n",
    "print(y)\n",
    "print(z)\n",
    "print(x is z)"
   ]
  },
  {
   "cell_type": "code",
   "execution_count": null,
   "metadata": {},
   "outputs": [],
   "source": []
  },
  {
   "cell_type": "code",
   "execution_count": null,
   "metadata": {},
   "outputs": [],
   "source": []
  }
 ],
 "metadata": {
  "kernelspec": {
   "display_name": "Python 3",
   "language": "python",
   "name": "python3"
  },
  "language_info": {
   "codemirror_mode": {
    "name": "ipython",
    "version": 3
   },
   "file_extension": ".py",
   "mimetype": "text/x-python",
   "name": "python",
   "nbconvert_exporter": "python",
   "pygments_lexer": "ipython3",
   "version": "3.11.1"
  },
  "orig_nbformat": 4,
  "vscode": {
   "interpreter": {
    "hash": "1dff2ae9bb3d76afe605b4da110c360d30bebf06bffc0acd093f995de237438b"
   }
  }
 },
 "nbformat": 4,
 "nbformat_minor": 2
}
