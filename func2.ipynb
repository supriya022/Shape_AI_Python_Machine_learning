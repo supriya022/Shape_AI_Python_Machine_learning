{
 "cells": [
  {
   "cell_type": "code",
   "execution_count": null,
   "metadata": {},
   "outputs": [],
   "source": [
    "parameter\n",
    "- named parameter\n",
    "-requird parameter \n",
    "-default parameter\n",
    "-variable parameter\n",
    "-varaiable keyword argument parameter\n"
   ]
  },
  {
   "cell_type": "code",
   "execution_count": 2,
   "metadata": {},
   "outputs": [],
   "source": [
    "def burger(bread,cheese,veg,price):\n",
    "    return f\"burger has {bread} bread,{cheese} cheese, is veg {veg} and cost is {price}\"\n"
   ]
  },
  {
   "cell_type": "code",
   "execution_count": 3,
   "metadata": {},
   "outputs": [
    {
     "data": {
      "text/plain": [
       "'burger has wheat bread,cheddar cheese, is veg True and cost is 50'"
      ]
     },
     "execution_count": 3,
     "metadata": {},
     "output_type": "execute_result"
    }
   ],
   "source": [
    "burger('wheat','cheddar',True,50)"
   ]
  },
  {
   "cell_type": "code",
   "execution_count": 4,
   "metadata": {},
   "outputs": [
    {
     "data": {
      "text/plain": [
       "'burger has wheat bread,Parmesan cheese, is veg True and cost is 50'"
      ]
     },
     "execution_count": 4,
     "metadata": {},
     "output_type": "execute_result"
    }
   ],
   "source": [
    "burger(bread='wheat',cheese='Parmesan',veg=True,price=50)"
   ]
  },
  {
   "cell_type": "code",
   "execution_count": 5,
   "metadata": {},
   "outputs": [],
   "source": [
    "def total(x,y,z):\n",
    "    return x+y+z*0.05"
   ]
  },
  {
   "cell_type": "code",
   "execution_count": 6,
   "metadata": {},
   "outputs": [
    {
     "name": "stdout",
     "output_type": "stream",
     "text": [
      "5.35\n",
      "6.2\n"
     ]
    }
   ],
   "source": [
    "ans = total(x=2,y=3,z=7)\n",
    "print(ans)\n",
    "ans = total(y=2,z=4,x=4) #if we left any arguments then it throw error\n",
    "print(ans)"
   ]
  },
  {
   "cell_type": "code",
   "execution_count": null,
   "metadata": {},
   "outputs": [],
   "source": [
    "default parameter"
   ]
  },
  {
   "cell_type": "code",
   "execution_count": 9,
   "metadata": {},
   "outputs": [],
   "source": [
    "def total_v2(x,y,z=2):   #here we only give default value to z and we always give default value from right\n",
    "    return x+y+z*0.05"
   ]
  },
  {
   "cell_type": "code",
   "execution_count": 10,
   "metadata": {},
   "outputs": [
    {
     "data": {
      "text/plain": [
       "9.1"
      ]
     },
     "execution_count": 10,
     "metadata": {},
     "output_type": "execute_result"
    }
   ],
   "source": [
    "total_v2(3,6)"
   ]
  },
  {
   "cell_type": "code",
   "execution_count": 11,
   "metadata": {},
   "outputs": [
    {
     "data": {
      "text/plain": [
       "15.3"
      ]
     },
     "execution_count": 11,
     "metadata": {},
     "output_type": "execute_result"
    }
   ],
   "source": [
    "total_v2(3,12,6)"
   ]
  },
  {
   "cell_type": "code",
   "execution_count": 12,
   "metadata": {},
   "outputs": [
    {
     "name": "stdout",
     "output_type": "stream",
     "text": [
      "1\n",
      "10\n",
      "200\n"
     ]
    }
   ],
   "source": [
    "def area(l=1,b=1):\n",
    "    return l*b\n",
    "print(area())\n",
    "print(area(10))\n",
    "print(area(10,20))\n",
    "\n"
   ]
  },
  {
   "cell_type": "code",
   "execution_count": 17,
   "metadata": {},
   "outputs": [
    {
     "name": "stdout",
     "output_type": "stream",
     "text": [
      "👑👑👑👑👑\n",
      "Welcome Guest\n",
      "👑👑👑👑👑\n",
      "👑👑👑👑👑\n",
      "Welcome XYZ\n",
      "👑👑👑👑👑\n"
     ]
    }
   ],
   "source": [
    "def greeting(name=\"Guest\"):\n",
    "    print('👑'*5)\n",
    "    print(f'Welcome {name}')\n",
    "    print('👑'*5)\n",
    "greeting()\n",
    "greeting('XYZ')"
   ]
  },
  {
   "cell_type": "code",
   "execution_count": 29,
   "metadata": {},
   "outputs": [],
   "source": [
    "# variable arguments function - print() follow the rule of variable arguments function as it consist many value\n",
    "\n",
    "def average(*numbers):\n",
    "    if len(numbers)>1:\n",
    "        return sum(numbers) / len(numbers)\n"
   ]
  },
  {
   "cell_type": "code",
   "execution_count": 31,
   "metadata": {},
   "outputs": [
    {
     "name": "stdout",
     "output_type": "stream",
     "text": [
      "2.3333333333333335\n",
      "4.666666666666667\n",
      "6.2727272727272725\n",
      "None\n"
     ]
    }
   ],
   "source": [
    "print(average(1,2,4))\n",
    "print(average(1,2,4,6,7,8))\n",
    "print(average(5,6,7,8,9,3,4,5,7,7,8))\n",
    "print(average())"
   ]
  },
  {
   "cell_type": "code",
   "execution_count": 32,
   "metadata": {},
   "outputs": [],
   "source": [
    "def menu(**product): # double astrick means we can pass many items\n",
    "    for k,v in product.items():\n",
    "        print(f'✅ {k:15} | Rs.{v:4}')"
   ]
  },
  {
   "cell_type": "code",
   "execution_count": 35,
   "metadata": {},
   "outputs": [
    {
     "name": "stdout",
     "output_type": "stream",
     "text": [
      "✅ chat            | Rs.  60\n",
      "✅ dosa            | Rs.  80\n",
      "✅ idli            | Rs.  60\n",
      "✅ chholebhature   | Rs.  60\n",
      "✅ pavbhaji        | Rs.  80\n",
      "✅ samosechhole    | Rs.  50\n"
     ]
    }
   ],
   "source": [
    "#motimahal menu\n",
    "menu(chat = 60,dosa=80,idli=60,chholebhature=60,pavbhaji = 80,samosechhole=50 )"
   ]
  },
  {
   "cell_type": "code",
   "execution_count": 34,
   "metadata": {},
   "outputs": [
    {
     "name": "stdout",
     "output_type": "stream",
     "text": [
      "✅ coffee          | Rs. 100\n",
      "✅ chaumin         | Rs.  70\n",
      "✅ chilipotato     | Rs.  60\n",
      "✅ panipuri        | Rs.  30\n"
     ]
    }
   ],
   "source": [
    "menu(coffee = 100,chaumin=70,chilipotato=60,panipuri=30)"
   ]
  },
  {
   "cell_type": "code",
   "execution_count": null,
   "metadata": {},
   "outputs": [],
   "source": []
  }
 ],
 "metadata": {
  "kernelspec": {
   "display_name": "Python 3",
   "language": "python",
   "name": "python3"
  },
  "language_info": {
   "codemirror_mode": {
    "name": "ipython",
    "version": 3
   },
   "file_extension": ".py",
   "mimetype": "text/x-python",
   "name": "python",
   "nbconvert_exporter": "python",
   "pygments_lexer": "ipython3",
   "version": "3.11.1"
  },
  "orig_nbformat": 4,
  "vscode": {
   "interpreter": {
    "hash": "1dff2ae9bb3d76afe605b4da110c360d30bebf06bffc0acd093f995de237438b"
   }
  }
 },
 "nbformat": 4,
 "nbformat_minor": 2
}
