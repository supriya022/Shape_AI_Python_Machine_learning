{
 "cells": [
  {
   "attachments": {},
   "cell_type": "markdown",
   "metadata": {},
   "source": [
    "f(x) = x + 3\n",
    "\n",
    "g(x,y) = x ** 2 + y + 3\n",
    "\n",
    "Lambda expression\n",
    "> map means same operation repeat \n",
    "> filter\n"
   ]
  },
  {
   "cell_type": "markdown",
   "metadata": {},
   "source": []
  },
  {
   "cell_type": "code",
   "execution_count": 3,
   "metadata": {},
   "outputs": [],
   "source": [
    "f = lambda x : x + 3 # lambda is actually a function"
   ]
  },
  {
   "cell_type": "code",
   "execution_count": 4,
   "metadata": {},
   "outputs": [
    {
     "name": "stdout",
     "output_type": "stream",
     "text": [
      "6 7 10\n"
     ]
    }
   ],
   "source": [
    "print(f(3), f(4),f(7))"
   ]
  },
  {
   "cell_type": "code",
   "execution_count": 6,
   "metadata": {},
   "outputs": [
    {
     "name": "stdout",
     "output_type": "stream",
     "text": [
      "8 17\n"
     ]
    }
   ],
   "source": [
    "g = lambda x, y : x**2 + y + 3\n",
    "print(g(2,1), g(3,5))"
   ]
  },
  {
   "cell_type": "code",
   "execution_count": 7,
   "metadata": {},
   "outputs": [
    {
     "name": "stdout",
     "output_type": "stream",
     "text": [
      "[15, 59, 84, 40, 84, 18, 2, 94, 51, 18, 118]\n"
     ]
    }
   ],
   "source": [
    "x = [20,64,89,45,89,23,7,99,56,23,123]\n",
    "# for beginners\n",
    "y = [] # blank list\n",
    "for i in x:\n",
    "    y.append(i-5)\n",
    "print(y)"
   ]
  },
  {
   "attachments": {},
   "cell_type": "markdown",
   "metadata": {},
   "source": [
    "same operation perform using map"
   ]
  },
  {
   "cell_type": "code",
   "execution_count": 8,
   "metadata": {},
   "outputs": [
    {
     "data": {
      "text/plain": [
       "<map at 0x23b26b69ed0>"
      ]
     },
     "execution_count": 8,
     "metadata": {},
     "output_type": "execute_result"
    }
   ],
   "source": [
    "map(lambda i : i-5, x) # this is called lazy object"
   ]
  },
  {
   "cell_type": "code",
   "execution_count": 10,
   "metadata": {},
   "outputs": [
    {
     "data": {
      "text/plain": [
       "[100, 320, 445, 225, 445, 115, 35, 495, 280, 115, 615]"
      ]
     },
     "execution_count": 10,
     "metadata": {},
     "output_type": "execute_result"
    }
   ],
   "source": [
    "list(map(lambda i : i*5, x))  # this is faster options  (we can also use it by using set or tuple)"
   ]
  },
  {
   "cell_type": "code",
   "execution_count": 15,
   "metadata": {},
   "outputs": [
    {
     "name": "stdout",
     "output_type": "stream",
     "text": [
      "[25.942243542145693, 71.84010022264724, 105.152270541344, 47.01063709417264]\n"
     ]
    }
   ],
   "source": [
    "p = [23,56,89,41]\n",
    "b = [12,45,56,23]\n",
    "h = list(map(lambda a,b: (a**2 + b**2)**.5,p,b))\n",
    "print(h)"
   ]
  },
  {
   "attachments": {},
   "cell_type": "markdown",
   "metadata": {},
   "source": [
    "# create a list of squares from a list of numbers"
   ]
  },
  {
   "cell_type": "code",
   "execution_count": 22,
   "metadata": {},
   "outputs": [
    {
     "data": {
      "text/plain": [
       "[4, 16, 49]"
      ]
     },
     "execution_count": 22,
     "metadata": {},
     "output_type": "execute_result"
    }
   ],
   "source": [
    "x = [2,4,7]\n",
    "a = list(map(lambda y: (y*y),x))\n",
    "a"
   ]
  },
  {
   "cell_type": "code",
   "execution_count": 24,
   "metadata": {},
   "outputs": [
    {
     "name": "stdout",
     "output_type": "stream",
     "text": [
      "[5, 6, 8, 9, 3, 6, 7, 8, 9, 5, 6, 8]\n"
     ]
    }
   ],
   "source": [
    "a = [2,5,6,8,9,2,3,6,7,8,9,1,5,6,8]\n",
    "b = list(filter(lambda i: i>=3,a))   # for condition we use filter\n",
    "print(b)"
   ]
  },
  {
   "attachments": {},
   "cell_type": "markdown",
   "metadata": {},
   "source": [
    "# square of all values greater than equal to 3"
   ]
  },
  {
   "cell_type": "code",
   "execution_count": 26,
   "metadata": {},
   "outputs": [
    {
     "data": {
      "text/plain": [
       "[25, 36, 64, 81, 9, 36, 49, 64, 81, 25, 36, 64]"
      ]
     },
     "execution_count": 26,
     "metadata": {},
     "output_type": "execute_result"
    }
   ],
   "source": [
    "list(map(lambda i : i**2,filter(lambda i : i>=3,a))) # for data we use map"
   ]
  },
  {
   "cell_type": "code",
   "execution_count": null,
   "metadata": {},
   "outputs": [],
   "source": []
  }
 ],
 "metadata": {
  "kernelspec": {
   "display_name": "Python 3",
   "language": "python",
   "name": "python3"
  },
  "language_info": {
   "codemirror_mode": {
    "name": "ipython",
    "version": 3
   },
   "file_extension": ".py",
   "mimetype": "text/x-python",
   "name": "python",
   "nbconvert_exporter": "python",
   "pygments_lexer": "ipython3",
   "version": "3.11.1"
  },
  "orig_nbformat": 4,
  "vscode": {
   "interpreter": {
    "hash": "1dff2ae9bb3d76afe605b4da110c360d30bebf06bffc0acd093f995de237438b"
   }
  }
 },
 "nbformat": 4,
 "nbformat_minor": 2
}
